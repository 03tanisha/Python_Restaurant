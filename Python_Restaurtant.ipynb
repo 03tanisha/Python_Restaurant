{
 "cells": [
  {
   "cell_type": "code",
   "execution_count": 4,
   "id": "b88d618f-ce4e-4685-9ab9-b266daa5bd8c",
   "metadata": {},
   "outputs": [
    {
     "name": "stdout",
     "output_type": "stream",
     "text": [
      "Welcome to the Python Restaurtant\n",
      "Pizza: Rs100\n",
      "Pasta: Rs80\n",
      "Burger: Rs70\n",
      "Coffee: Rs90\n",
      "Moctails: Rs200\n"
     ]
    },
    {
     "name": "stdin",
     "output_type": "stream",
     "text": [
      "Enter the name of the item you want to order =  pizza\n"
     ]
    },
    {
     "name": "stdout",
     "output_type": "stream",
     "text": [
      "Ordered itempizza is not available yet! \n"
     ]
    },
    {
     "name": "stdin",
     "output_type": "stream",
     "text": [
      "Do you want to add another item ?(Yes/No) Yes\n",
      "Enter the name of the second item =  Coffee\n"
     ]
    },
    {
     "name": "stdout",
     "output_type": "stream",
     "text": [
      " Your itemCoffee has been added to your order\n",
      " The total amount of items to pay90\n"
     ]
    }
   ],
   "source": [
    "# define the menu of restaurant\n",
    "\n",
    "menu = {\n",
    "    \"Pizza\" : 100,\n",
    "    \"Pasta\" : 80,\n",
    "    \"Burger\" : 70,\n",
    "    \"Coffee\" : 90,\n",
    "    \"Mocktails\" : 200 }\n",
    "\n",
    "\n",
    "# Greet \n",
    "print(\"Welcome to the Python Restaurtant\")\n",
    "print(\"Pizza: Rs100\\nPasta: Rs80\\nBurger: Rs70\\nCoffee: Rs90\\nMoctails: Rs200\")\n",
    "\n",
    "order_total = 0    # to add on the price of item that user will add\n",
    "\n",
    "item_1 = input(\"Enter the name of the item you want to order = \")\n",
    "if item_1 in menu:\n",
    "    order_total = menu(item_1)\n",
    "    print(f\"Your item{item_1} has been added to your order\")\n",
    "else:\n",
    "    print(f\"Ordered item{item_1} is not available yet! \")\n",
    "\n",
    "\n",
    "another_order = input(\"Do you want to add another item ?(Yes/No)\")\n",
    "\n",
    "if another_order == \"Yes\":\n",
    "    item_2 = input(\"Enter the name of the second item = \")\n",
    "    if item_2 in menu:\n",
    "         order_total = menu[item_2]\n",
    "         print(f\" Your item{item_2} has been added to your order\")\n",
    "else:\n",
    "     print(f\"Ordered item{item_2} is not available yet! \")\n",
    "        \n",
    "print(f\" The total amount of items to pay{order_total}\") "
   ]
  },
  {
   "cell_type": "code",
   "execution_count": null,
   "id": "b22654e0-0835-4230-a2c7-b7ad58d55f60",
   "metadata": {},
   "outputs": [],
   "source": []
  }
 ],
 "metadata": {
  "kernelspec": {
   "display_name": "Python 3 (ipykernel)",
   "language": "python",
   "name": "python3"
  },
  "language_info": {
   "codemirror_mode": {
    "name": "ipython",
    "version": 3
   },
   "file_extension": ".py",
   "mimetype": "text/x-python",
   "name": "python",
   "nbconvert_exporter": "python",
   "pygments_lexer": "ipython3",
   "version": "3.11.7"
  }
 },
 "nbformat": 4,
 "nbformat_minor": 5
}
